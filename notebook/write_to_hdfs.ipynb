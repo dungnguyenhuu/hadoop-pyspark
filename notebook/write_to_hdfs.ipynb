{
 "cells": [
  {
   "cell_type": "code",
   "execution_count": 1,
   "metadata": {},
   "outputs": [],
   "source": [
    "from pyspark.context import SparkContext\n",
    "from pyspark.sql.session import SparkSession"
   ]
  },
  {
   "cell_type": "code",
   "execution_count": 2,
   "metadata": {},
   "outputs": [],
   "source": [
    "spark = SparkSession.builder.master(\"local\").appName(\"write_rice\").getOrCreate()"
   ]
  },
  {
   "cell_type": "code",
   "execution_count": 3,
   "metadata": {},
   "outputs": [],
   "source": [
    "#Đọc file newPrices.csv\n",
    "csvFile = spark.read.format(\"csv\")\\\n",
    ".option(\"header\", \"true\")\\\n",
    ".option(\"mode\", \"FAILFAST\")\\\n",
    ".option(\"inferSchema\", \"true\")\\\n",
    ".load(\"./newPrices.csv\")"
   ]
  },
  {
   "cell_type": "code",
   "execution_count": 4,
   "metadata": {
    "scrolled": false
   },
   "outputs": [
    {
     "name": "stdout",
     "output_type": "stream",
     "text": [
      "root\n",
      " |-- Date: string (nullable = true)\n",
      " |-- US_dollar: string (nullable = true)\n",
      " |-- Euro: string (nullable = true)\n",
      " |-- Japanese_yen: string (nullable = true)\n",
      " |-- Canadian_dollar: string (nullable = true)\n",
      " |-- Indian_rupee: string (nullable = true)\n",
      " |-- Chinese_renmimbi: string (nullable = true)\n",
      " |-- Indonesian_rupiah: string (nullable = true)\n",
      " |-- UAE_dirham: string (nullable = true)\n",
      " |-- Thai_baht: string (nullable = true)\n",
      " |-- Vietnamese_dong: string (nullable = true)\n",
      " |-- Egyptian_pound: string (nullable = true)\n",
      " |-- Korean_won: string (nullable = true)\n",
      " |-- Russian_ruble: string (nullable = true)\n",
      " |-- SouthAfrican_rand: string (nullable = true)\n",
      " |-- Australian_dollar: string (nullable = true)\n",
      "\n"
     ]
    }
   ],
   "source": [
    "#Xem cấu trúc các trường trong datafame\n",
    "csvFile.printSchema()"
   ]
  },
  {
   "cell_type": "markdown",
   "metadata": {},
   "source": [
    "datafame có 16 cột bao gồm: \n",
    "- Date có kiểu dữ liệu là string, cột này có ý nghĩa ngày/tháng/năm\n",
    "- Các cột còn lại để là kiểu string với ý nghĩa là giá trị của vàng theo đơn vị tiền tệ của các nước"
   ]
  },
  {
   "cell_type": "code",
   "execution_count": 5,
   "metadata": {},
   "outputs": [
    {
     "data": {
      "text/plain": [
       "10941"
      ]
     },
     "execution_count": 5,
     "metadata": {},
     "output_type": "execute_result"
    }
   ],
   "source": [
    "#số lượng bản ghi là 10941\n",
    "csvFile.count()"
   ]
  },
  {
   "cell_type": "code",
   "execution_count": 6,
   "metadata": {},
   "outputs": [
    {
     "name": "stdout",
     "output_type": "stream",
     "text": [
      "+----------+---------+-----+------------+---------------+---------+-----------------+----------------+-----------------+\n",
      "|      Date|US_dollar| Euro|Japanese_yen|Vietnamese_dong|Thai_baht|Australian_dollar|Chinese_renmimbi|Australian_dollar|\n",
      "+----------+---------+-----+------------+---------------+---------+-----------------+----------------+-----------------+\n",
      "|12/29/1978|      226|137.1|        #N/A|           #N/A|     #N/A|             #N/A|            #N/A|             #N/A|\n",
      "|  1/1/1979|      226|137.1|        #N/A|           #N/A|     #N/A|             #N/A|            #N/A|             #N/A|\n",
      "|  1/2/1979|    226.8|137.3|   43,164.90|           #N/A| 4,454.60|            193.6|            #N/A|            193.6|\n",
      "|  1/3/1979|    218.6|  134|   43,717.90|           #N/A| 4,477.70|              193|            #N/A|              193|\n",
      "|  1/4/1979|    223.2|136.8|   43,674.90|           #N/A| 4,501.50|            194.6|            #N/A|            194.6|\n",
      "|  1/5/1979|    225.5|138.4|   44,582.50|           #N/A| 4,580.60|            197.9|            #N/A|            197.9|\n",
      "|  1/8/1979|    223.1|136.4|   44,436.20|           #N/A| 4,574.20|            197.9|            #N/A|            197.9|\n",
      "|  1/9/1979|      224|137.3|   44,045.60|           #N/A| 4,528.30|            195.9|            #N/A|            195.9|\n",
      "| 1/10/1979|    220.7|135.5|   43,366.40|           #N/A| 4,481.00|            192.7|            #N/A|            192.7|\n",
      "| 1/11/1979|    220.7|135.9|   43,770.60|           #N/A| 4,508.50|            193.8|            #N/A|            193.8|\n",
      "| 1/12/1979|    217.6|134.1|   42,837.10|           #N/A| 4,429.10|            189.8|            #N/A|            189.8|\n",
      "| 1/15/1979|    216.9|133.8|   42,795.30|           #N/A| 4,374.70|            189.8|            #N/A|            189.8|\n",
      "| 1/16/1979|    220.7|135.6|   43,225.90|           #N/A| 4,410.40|            191.9|            #N/A|            191.9|\n",
      "| 1/17/1979|    227.3|139.2|   44,349.70|           #N/A| 4,522.20|            197.1|            #N/A|            197.1|\n",
      "| 1/18/1979|    231.8|141.7|   44,823.40|           #N/A| 4,570.50|              199|            #N/A|              199|\n",
      "| 1/19/1979|    230.6|141.1|   46,908.80|           #N/A| 4,764.40|            207.6|            #N/A|            207.6|\n",
      "| 1/22/1979|      235|  144|   46,387.40|           #N/A| 4,746.60|            205.7|            #N/A|            205.7|\n",
      "| 1/23/1979|      230|141.1|   45,633.10|           #N/A| 4,669.50|              202|            #N/A|              202|\n",
      "| 1/24/1979|    236.1|144.7|   46,372.40|           #N/A| 4,745.10|            205.6|            #N/A|            205.6|\n",
      "| 1/25/1979|    233.9|  144|   46,890.30|           #N/A| 4,774.00|            206.5|            #N/A|            206.5|\n",
      "+----------+---------+-----+------------+---------------+---------+-----------------+----------------+-----------------+\n",
      "only showing top 20 rows\n",
      "\n"
     ]
    }
   ],
   "source": [
    "#Quan sát một ý dữ liệu đã đọc được. Một số giá trị là #N/A có ý nghĩa là tại đó không có dữ liệu\n",
    "csvFile.select(\"Date\", \n",
    "               \"US_dollar\", \n",
    "               \"Euro\", \n",
    "               \"Japanese_yen\", \n",
    "               \"Vietnamese_dong\", \n",
    "               \"Thai_baht\", \n",
    "               \"Australian_dollar\",\n",
    "              \"Chinese_renmimbi\", \n",
    "              \"Australian_dollar\").show(20)"
   ]
  },
  {
   "cell_type": "code",
   "execution_count": 7,
   "metadata": {},
   "outputs": [],
   "source": [
    "# để thao tác với các giá trị là số trong các cột, chúng em sẽ đổi lại kiểu dữ liệu cho các cột\n",
    "df = csvFile.selectExpr(\"cast(Date as string) Date\",\n",
    "                        \"cast(US_dollar as double) US_dollar\",\n",
    "                        \"cast(Euro as double) Euro\",\n",
    "                       \"cast(Japanese_yen as double) Japanese_yen\",\n",
    "                       \"cast(Canadian_dollar as double) Canadian_dollar\",\n",
    "                       \"cast(Indian_rupee as double) Indian_rupee\",\n",
    "                       \"cast(Chinese_renmimbi as double) Chinese_renmimbi\",\n",
    "                       \"cast(Indonesian_rupiah as double) Indonesian_rupiah\",\n",
    "                       \"cast(UAE_dirham as double) UAE_dirham\",\n",
    "                       \"cast(Thai_baht as double) Thai_baht\",\n",
    "                       \"cast(Vietnamese_dong as double) Vietnamese_dong\",\n",
    "                       \"cast(Egyptian_pound as double) Egyptian_pound\",\n",
    "                       \"cast(Korean_won as double) Korean_won\",\n",
    "                       \"cast(Russian_ruble as double) Russian_ruble\",\n",
    "                       \"cast(SouthAfrican_rand as double) SouthAfrican_rand\",\n",
    "                       \"cast(Australian_dollar as double) Australian_dollar\")"
   ]
  },
  {
   "cell_type": "code",
   "execution_count": 8,
   "metadata": {},
   "outputs": [
    {
     "name": "stdout",
     "output_type": "stream",
     "text": [
      "root\n",
      " |-- Date: string (nullable = true)\n",
      " |-- US_dollar: double (nullable = true)\n",
      " |-- Euro: double (nullable = true)\n",
      " |-- Japanese_yen: double (nullable = true)\n",
      " |-- Canadian_dollar: double (nullable = true)\n",
      " |-- Indian_rupee: double (nullable = true)\n",
      " |-- Chinese_renmimbi: double (nullable = true)\n",
      " |-- Indonesian_rupiah: double (nullable = true)\n",
      " |-- UAE_dirham: double (nullable = true)\n",
      " |-- Thai_baht: double (nullable = true)\n",
      " |-- Vietnamese_dong: double (nullable = true)\n",
      " |-- Egyptian_pound: double (nullable = true)\n",
      " |-- Korean_won: double (nullable = true)\n",
      " |-- Russian_ruble: double (nullable = true)\n",
      " |-- SouthAfrican_rand: double (nullable = true)\n",
      " |-- Australian_dollar: double (nullable = true)\n",
      "\n"
     ]
    }
   ],
   "source": [
    "#Cấu trúc của datafame sau khi đổi lại kiểu dữ liệu từ string sang double\n",
    "df.printSchema()"
   ]
  },
  {
   "cell_type": "code",
   "execution_count": 9,
   "metadata": {},
   "outputs": [
    {
     "name": "stdout",
     "output_type": "stream",
     "text": [
      "+----------+---------+-----+------------+---------------+---------+-----------------+----------------+-----------------+\n",
      "|      Date|US_dollar| Euro|Japanese_yen|Vietnamese_dong|Thai_baht|Australian_dollar|Chinese_renmimbi|Australian_dollar|\n",
      "+----------+---------+-----+------------+---------------+---------+-----------------+----------------+-----------------+\n",
      "|12/29/1978|    226.0|137.1|        null|           null|     null|             null|            null|             null|\n",
      "|  1/1/1979|    226.0|137.1|        null|           null|     null|             null|            null|             null|\n",
      "|  1/2/1979|    226.8|137.3|        null|           null|     null|            193.6|            null|            193.6|\n",
      "|  1/3/1979|    218.6|134.0|        null|           null|     null|            193.0|            null|            193.0|\n",
      "|  1/4/1979|    223.2|136.8|        null|           null|     null|            194.6|            null|            194.6|\n",
      "|  1/5/1979|    225.5|138.4|        null|           null|     null|            197.9|            null|            197.9|\n",
      "|  1/8/1979|    223.1|136.4|        null|           null|     null|            197.9|            null|            197.9|\n",
      "|  1/9/1979|    224.0|137.3|        null|           null|     null|            195.9|            null|            195.9|\n",
      "| 1/10/1979|    220.7|135.5|        null|           null|     null|            192.7|            null|            192.7|\n",
      "| 1/11/1979|    220.7|135.9|        null|           null|     null|            193.8|            null|            193.8|\n",
      "| 1/12/1979|    217.6|134.1|        null|           null|     null|            189.8|            null|            189.8|\n",
      "| 1/15/1979|    216.9|133.8|        null|           null|     null|            189.8|            null|            189.8|\n",
      "| 1/16/1979|    220.7|135.6|        null|           null|     null|            191.9|            null|            191.9|\n",
      "| 1/17/1979|    227.3|139.2|        null|           null|     null|            197.1|            null|            197.1|\n",
      "| 1/18/1979|    231.8|141.7|        null|           null|     null|            199.0|            null|            199.0|\n",
      "| 1/19/1979|    230.6|141.1|        null|           null|     null|            207.6|            null|            207.6|\n",
      "| 1/22/1979|    235.0|144.0|        null|           null|     null|            205.7|            null|            205.7|\n",
      "| 1/23/1979|    230.0|141.1|        null|           null|     null|            202.0|            null|            202.0|\n",
      "| 1/24/1979|    236.1|144.7|        null|           null|     null|            205.6|            null|            205.6|\n",
      "| 1/25/1979|    233.9|144.0|        null|           null|     null|            206.5|            null|            206.5|\n",
      "+----------+---------+-----+------------+---------------+---------+-----------------+----------------+-----------------+\n",
      "only showing top 20 rows\n",
      "\n"
     ]
    }
   ],
   "source": [
    "#Quan sát một ý dữ liệu đã đọc được. Các giá trị là #N/A đã thành null\n",
    "df.select(\"Date\", \n",
    "           \"US_dollar\", \n",
    "           \"Euro\", \n",
    "           \"Japanese_yen\", \n",
    "           \"Vietnamese_dong\", \n",
    "           \"Thai_baht\", \n",
    "           \"Australian_dollar\",\n",
    "          \"Chinese_renmimbi\", \n",
    "          \"Australian_dollar\").show(20)"
   ]
  },
  {
   "cell_type": "code",
   "execution_count": 10,
   "metadata": {},
   "outputs": [],
   "source": [
    "#ghi dữ liệu và trong hdfs với địa chỉ là hdfs://namenode:9000/myfile/price_gold.csv\n",
    "df.write.format(\"csv\").mode(\"overwrite\").option(\"header\", \"true\")\\\n",
    ".save(\"hdfs://namenode:9000/myfile/price_gold.csv\")"
   ]
  },
  {
   "cell_type": "code",
   "execution_count": null,
   "metadata": {},
   "outputs": [],
   "source": []
  }
 ],
 "metadata": {
  "kernelspec": {
   "display_name": "Python 3",
   "language": "python",
   "name": "python3"
  },
  "language_info": {
   "codemirror_mode": {
    "name": "ipython",
    "version": 3
   },
   "file_extension": ".py",
   "mimetype": "text/x-python",
   "name": "python",
   "nbconvert_exporter": "python",
   "pygments_lexer": "ipython3",
   "version": "3.8.6"
  }
 },
 "nbformat": 4,
 "nbformat_minor": 4
}
